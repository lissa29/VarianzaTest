{
 "cells": [
  {
   "cell_type": "markdown",
   "id": "900ea98a-e621-4fdc-9e72-5759a87701c3",
   "metadata": {},
   "source": [
    "# UNAH\n",
    "## Facultad de Ingenieria\n",
    "## Carrera de Ingenieria en sistemas\n",
    "### Clase: Inteligencia Artificial\n",
    "\n",
    "*Prueba*"
   ]
  },
  {
   "cell_type": "code",
   "execution_count": 2,
   "id": "d89d7223-d7bc-4a2f-b8e2-7777b3abbbc9",
   "metadata": {},
   "outputs": [],
   "source": [
    "import pandas as pd\n",
    "import numpy as np"
   ]
  },
  {
   "cell_type": "markdown",
   "id": "a6101627-a1bb-41ae-9a9c-6597e20ed26b",
   "metadata": {},
   "source": [
    "Segun el siguiente Dataset:"
   ]
  },
  {
   "cell_type": "code",
   "execution_count": 3,
   "id": "129c774e-4da0-4b46-918a-19e51df03fe3",
   "metadata": {},
   "outputs": [],
   "source": [
    "pd_vector = pd.DataFrame( { \"num\" : range(1,101) } )"
   ]
  },
  {
   "cell_type": "code",
   "execution_count": 4,
   "id": "48d3c5b7-be61-4c2f-ada7-d9766b5d82db",
   "metadata": {},
   "outputs": [
    {
     "data": {
      "text/html": [
       "<div>\n",
       "<style scoped>\n",
       "    .dataframe tbody tr th:only-of-type {\n",
       "        vertical-align: middle;\n",
       "    }\n",
       "\n",
       "    .dataframe tbody tr th {\n",
       "        vertical-align: top;\n",
       "    }\n",
       "\n",
       "    .dataframe thead th {\n",
       "        text-align: right;\n",
       "    }\n",
       "</style>\n",
       "<table border=\"1\" class=\"dataframe\">\n",
       "  <thead>\n",
       "    <tr style=\"text-align: right;\">\n",
       "      <th></th>\n",
       "      <th>num</th>\n",
       "    </tr>\n",
       "  </thead>\n",
       "  <tbody>\n",
       "    <tr>\n",
       "      <th>0</th>\n",
       "      <td>1</td>\n",
       "    </tr>\n",
       "    <tr>\n",
       "      <th>1</th>\n",
       "      <td>2</td>\n",
       "    </tr>\n",
       "    <tr>\n",
       "      <th>2</th>\n",
       "      <td>3</td>\n",
       "    </tr>\n",
       "    <tr>\n",
       "      <th>3</th>\n",
       "      <td>4</td>\n",
       "    </tr>\n",
       "    <tr>\n",
       "      <th>4</th>\n",
       "      <td>5</td>\n",
       "    </tr>\n",
       "    <tr>\n",
       "      <th>...</th>\n",
       "      <td>...</td>\n",
       "    </tr>\n",
       "    <tr>\n",
       "      <th>95</th>\n",
       "      <td>96</td>\n",
       "    </tr>\n",
       "    <tr>\n",
       "      <th>96</th>\n",
       "      <td>97</td>\n",
       "    </tr>\n",
       "    <tr>\n",
       "      <th>97</th>\n",
       "      <td>98</td>\n",
       "    </tr>\n",
       "    <tr>\n",
       "      <th>98</th>\n",
       "      <td>99</td>\n",
       "    </tr>\n",
       "    <tr>\n",
       "      <th>99</th>\n",
       "      <td>100</td>\n",
       "    </tr>\n",
       "  </tbody>\n",
       "</table>\n",
       "<p>100 rows × 1 columns</p>\n",
       "</div>"
      ],
      "text/plain": [
       "    num\n",
       "0     1\n",
       "1     2\n",
       "2     3\n",
       "3     4\n",
       "4     5\n",
       "..  ...\n",
       "95   96\n",
       "96   97\n",
       "97   98\n",
       "98   99\n",
       "99  100\n",
       "\n",
       "[100 rows x 1 columns]"
      ]
     },
     "execution_count": 4,
     "metadata": {},
     "output_type": "execute_result"
    }
   ],
   "source": [
    "pd_vector"
   ]
  },
  {
   "cell_type": "markdown",
   "id": "68d2dfb1-9c1f-4116-89c5-05e2171c7018",
   "metadata": {},
   "source": [
    "Y segun los siguientes metodos de numpy"
   ]
  },
  {
   "cell_type": "code",
   "execution_count": 5,
   "id": "81d3dd14-6205-421a-9cf9-031027c6a213",
   "metadata": {},
   "outputs": [
    {
     "data": {
      "text/plain": [
       "833.25"
      ]
     },
     "execution_count": 5,
     "metadata": {},
     "output_type": "execute_result"
    }
   ],
   "source": [
    "np.var( pd_vector[\"num\"] ) ## Calcula la varianza"
   ]
  },
  {
   "cell_type": "code",
   "execution_count": 6,
   "id": "4b17ddd3-044d-4328-9f34-03bde615cc7a",
   "metadata": {},
   "outputs": [
    {
     "data": {
      "text/plain": [
       "28.86607004772212"
      ]
     },
     "execution_count": 6,
     "metadata": {},
     "output_type": "execute_result"
    }
   ],
   "source": [
    "np.std( pd_vector[\"num\"] ) ## Calcula la desviacion estandard"
   ]
  },
  {
   "cell_type": "markdown",
   "id": "b0db84f8-c351-41db-b981-336b6738b19b",
   "metadata": {},
   "source": [
    "## Responda las siguientes ejercicios"
   ]
  },
  {
   "cell_type": "markdown",
   "id": "5d99d524-4a87-4fbf-a2b8-436a6cb4ddcd",
   "metadata": {},
   "source": [
    "1. Grafique el Boxplot del vector \"num\""
   ]
  },
  {
   "cell_type": "code",
   "execution_count": 7,
   "id": "f36238bb-56d3-4bdb-9108-bb652a2c2f9c",
   "metadata": {},
   "outputs": [
    {
     "data": {
      "image/png": "[encoded data removed]",
      "text/plain": [
       "<Figure size 432x288 with 1 Axes>"
      ]
     },
     "metadata": {
      "needs_background": "light"
     },
     "output_type": "display_data"
    }
   ],
   "source": [
    "boxplot = pd_vector.boxplot()"
   ]
  },
  {
   "cell_type": "markdown",
   "id": "c3011ce8-15f1-4b3b-b7ab-44172bf7c8a2",
   "metadata": {},
   "source": [
    "2. Calcule la varianza y desviacion estandard de cada uno de los quartiles\n",
    "\n",
    "Nota: realice manual la divicion del dataset para obtener cada uno de quartiles, al final obtendra cuatro dataframes"
   ]
  },
  {
   "cell_type": "code",
   "execution_count": 17,
   "id": "04b867eb-35ed-4bbc-ab5b-8c3c96103555",
   "metadata": {},
   "outputs": [
    {
     "name": "stdout",
     "output_type": "stream",
     "text": [
      "[25.75] [50.5] [75.25]\n"
     ]
    }
   ],
   "source": [
    "Q1 = pd_vector.quantile(.25).values\n",
    "Q2 = pd_vector.quantile(.50).values\n",
    "Q3 = pd_vector.quantile(.75).values\n",
    "print(Q1,Q2,Q3)"
   ]
  },
  {
   "cell_type": "code",
   "execution_count": 11,
   "id": "fe127e6a-45c7-44a3-89cd-e48242c3f0a9",
   "metadata": {},
   "outputs": [
    {
     "name": "stdout",
     "output_type": "stream",
     "text": [
      "Estadisticas Cuartil 1 \n",
      "varianza: 52.0 \n",
      "desviacion estandar:  7.211102550927978\n"
     ]
    }
   ],
   "source": [
    "dfQ1= pd.DataFrame(pd_vector[0:25])\n",
    "dfQ1\n",
    "v=np.var( dfQ1[\"num\"] ) \n",
    "std=np.std( dfQ1[\"num\"] ) \n",
    "print(\"Estadisticas Cuartil 1 \\nvarianza:\",v,\"\\ndesviacion estandar: \",std)"
   ]
  },
  {
   "cell_type": "code",
   "execution_count": 13,
   "id": "ddf38642-a7ed-417a-ba92-cfbf7dd97ea9",
   "metadata": {},
   "outputs": [
    {
     "name": "stdout",
     "output_type": "stream",
     "text": [
      "Estadisticas Cuartil 2 \n",
      "varianza: 52.0 \n",
      "desviacion estandar:  7.211102550927978\n"
     ]
    }
   ],
   "source": [
    "dfQ2= pd.DataFrame(pd_vector[25:50])\n",
    "dfQ2\n",
    "v2=np.var( dfQ2[\"num\"] ) \n",
    "std2=np.std( dfQ2[\"num\"] ) \n",
    "print(\"Estadisticas Cuartil 2 \\nvarianza:\",v2,\"\\ndesviacion estandar: \",std2)"
   ]
  },
  {
   "cell_type": "code",
   "execution_count": 16,
   "id": "1a16b7d0-a13c-4ebf-bfae-106b554325f0",
   "metadata": {},
   "outputs": [
    {
     "name": "stdout",
     "output_type": "stream",
     "text": [
      "Estadisticas Cuartil 3 \n",
      "varianza: 52.0 \n",
      "desviacion estandar:  7.211102550927978\n"
     ]
    }
   ],
   "source": [
    "dfQ3= pd.DataFrame(pd_vector[50:75])\n",
    "dfQ3\n",
    "v3=np.var( dfQ3[\"num\"] ) \n",
    "std3=np.std( dfQ3[\"num\"] ) \n",
    "print(\"Estadisticas Cuartil 3 \\nvarianza:\",v3,\"\\ndesviacion estandar: \",std3)"
   ]
  },
  {
   "cell_type": "code",
   "execution_count": 15,
   "id": "8c345bdd-9657-4bee-9a4a-e502bc1c2a9e",
   "metadata": {},
   "outputs": [
    {
     "name": "stdout",
     "output_type": "stream",
     "text": [
      "Estadisticas Cuartil 4 \n",
      "varianza: 52.0 \n",
      "desviacion estandar:  7.211102550927978\n"
     ]
    }
   ],
   "source": [
    "dfQ4= pd.DataFrame(pd_vector[75:100])\n",
    "dfQ4\n",
    "v4=np.var( dfQ4[\"num\"] ) \n",
    "std4=np.std( dfQ4[\"num\"] )\n",
    "print(\"Estadisticas Cuartil 4 \\nvarianza:\",v4,\"\\ndesviacion estandar: \",std4)"
   ]
  },
  {
   "cell_type": "markdown",
   "id": "b1aac673-aa4f-40c4-8ae2-364247dcaad1",
   "metadata": {},
   "source": [
    "3. Explique la respuesta que obtuvo en el ejercicio dos, recuerde que se puede apoyar del grafico del ejercicio uno para hacer referencias sobre distribucion en caso de que sea necesario."
   ]
  },
  {
   "cell_type": "code",
   "execution_count": 18,
   "id": "43df03b0-9a21-44d1-8aba-a337de9ba1a6",
   "metadata": {},
   "outputs": [
    {
     "data": {
      "text/plain": [
       "' Con los cuartiles se divide los datos del vector en cuatro segmentos que contienen aproximadamente el mismo número de datos, el Q1 suele estar debajo del 25% aproximadamente, el Q2 por el 50% (la mediana), Q3 sobre el 75%, para el ejercicio se calcula la varianza y desviacion estandar de cada cuartil. En este caso la sucesion es de 1-100 asi que cada cuartil tiene una misma varianza y desviacion estandar, es decir, los cuartiles tienen el mismo tamaño(varinza) y el mismo espacio(desviacion estandar) dentro de cada cuartil.   '"
      ]
     },
     "execution_count": 18,
     "metadata": {},
     "output_type": "execute_result"
    }
   ],
   "source": [
    "''' Con los cuartiles se divide los datos del vector en cuatro segmentos que contienen aproximadamente el mismo número de datos, el Q1 suele estar debajo del 25% aproximadamente, el Q2 por el 50% (la mediana), Q3 sobre el 75%, para el ejercicio se calcula la varianza y desviacion estandar de cada cuartil. En este caso la sucesion es de 1-100 asi que cada cuartil tiene una misma varianza y desviacion estandar, es decir, los cuartiles tienen el mismo tamaño(varinza) y el mismo espacio(desviacion estandar) dentro de cada cuartil.   '''"
   ]
  },
  {
   "cell_type": "code",
   "execution_count": null,
   "id": "174f19da-e18f-425a-a268-e3d4dc6a3fc2",
   "metadata": {},
   "outputs": [],
   "source": []
  }
 ],
 "metadata": {
  "kernelspec": {
   "display_name": "Python 3 (ipykernel)",
   "language": "python",
   "name": "python3"
  },
  "language_info": {
   "codemirror_mode": {
    "name": "ipython",
    "version": 3
   },
   "file_extension": ".py",
   "mimetype": "text/x-python",
   "name": "python",
   "nbconvert_exporter": "python",
   "pygments_lexer": "ipython3",
   "version": "3.9.12"
  }
 },
 "nbformat": 4,
 "nbformat_minor": 5
}
